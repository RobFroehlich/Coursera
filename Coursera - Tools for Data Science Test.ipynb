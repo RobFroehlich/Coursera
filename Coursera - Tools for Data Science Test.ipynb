{
    "cells": [
        {
            "cell_type": "markdown",
            "metadata": {},
            "source": "# My Jupyter Notebook on IBM Watson Studio"
        },
        {
            "cell_type": "markdown",
            "metadata": {},
            "source": "<b>Robert Froehlich</b><br>\nData Scientist"
        },
        {
            "cell_type": "markdown",
            "metadata": {},
            "source": "<i>I am interested in Data Science because I want to gain insights in datasets about health care sector.</i>"
        },
        {
            "cell_type": "markdown",
            "metadata": {},
            "source": "<h3>Following code adds 2 and 3, should result in 5.</h3>"
        },
        {
            "cell_type": "code",
            "execution_count": 3,
            "metadata": {},
            "outputs": [
                {
                    "data": {
                        "text/plain": "5"
                    },
                    "execution_count": 3,
                    "metadata": {},
                    "output_type": "execute_result"
                }
            ],
            "source": "2+3"
        },
        {
            "cell_type": "markdown",
            "metadata": {},
            "source": "this is <s>strikthrough</s>,<br> this is <blockquote>blockquote</blockquote><br>this is <a href>https://en.wikipedia.org/wiki/Hyperlink</a>"
        }
    ],
    "metadata": {
        "kernelspec": {
            "display_name": "Python 3.10",
            "language": "python",
            "name": "python3"
        },
        "language_info": {
            "codemirror_mode": {
                "name": "ipython",
                "version": 3
            },
            "file_extension": ".py",
            "mimetype": "text/x-python",
            "name": "python",
            "nbconvert_exporter": "python",
            "pygments_lexer": "ipython3",
            "version": "3.10.6"
        }
    },
    "nbformat": 4,
    "nbformat_minor": 1
}